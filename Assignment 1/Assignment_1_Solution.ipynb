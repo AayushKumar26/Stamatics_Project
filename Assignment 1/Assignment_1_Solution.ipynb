{
  "nbformat": 4,
  "nbformat_minor": 0,
  "metadata": {
    "colab": {
      "provenance": []
    },
    "kernelspec": {
      "name": "python3",
      "display_name": "Python 3"
    },
    "language_info": {
      "name": "python"
    }
  },
  "cells": [
    {
      "cell_type": "code",
      "execution_count": null,
      "metadata": {
        "id": "dSIA_slWRlI9"
      },
      "outputs": [],
      "source": [
        "#1\n",
        "def add(a,b):\n",
        "     return a+b"
      ]
    },
    {
      "cell_type": "code",
      "source": [
        "#2\n",
        "def check_even(num):\n",
        "       if (num % 2) == 0:\n",
        "              print(\"{0} is Even\".format(num))\n",
        "       else:\n",
        "              print(\"{0} is Odd\".format(num))\n"
      ],
      "metadata": {
        "id": "LHrdhfH9h90L"
      },
      "execution_count": null,
      "outputs": []
    },
    {
      "cell_type": "code",
      "source": [
        "#3\n",
        "for i in range(1, 11):\n",
        "       print(i)\n"
      ],
      "metadata": {
        "colab": {
          "base_uri": "https://localhost:8080/"
        },
        "id": "zflZ_fk5iIsM",
        "outputId": "35ba76b3-2f01-420f-d837-20532fb12fc0"
      },
      "execution_count": null,
      "outputs": [
        {
          "output_type": "stream",
          "name": "stdout",
          "text": [
            "1\n",
            "2\n",
            "3\n",
            "4\n",
            "5\n",
            "6\n",
            "7\n",
            "8\n",
            "9\n",
            "10\n"
          ]
        }
      ]
    },
    {
      "cell_type": "code",
      "source": [
        "#4\n",
        "import numpy as np\n",
        "arr = np.array([1, 2, 3, 4, 5])"
      ],
      "metadata": {
        "id": "AxKzTpY7iQtW"
      },
      "execution_count": null,
      "outputs": []
    },
    {
      "cell_type": "code",
      "source": [
        " #5\n",
        " import numpy as np\n",
        " rand_val = np.random.rand(5)\n",
        " print(\"Random values:\", rand_val)\n"
      ],
      "metadata": {
        "colab": {
          "base_uri": "https://localhost:8080/"
        },
        "id": "24jkLzCSjnJM",
        "outputId": "ce5e1072-0d9e-4c1e-ecb5-96007bc8bdfd"
      },
      "execution_count": null,
      "outputs": [
        {
          "output_type": "stream",
          "name": "stdout",
          "text": [
            "Random values: [0.43813125 0.70684345 0.22027657 0.29837679 0.99034159]\n"
          ]
        }
      ]
    },
    {
      "cell_type": "code",
      "source": [
        "#6\n",
        "import numpy as np\n",
        "a = np.array([1, 2, 3])\n",
        "b = np.array([4, 5, 6])\n",
        "c = np.add(a,b)\n",
        "print(\"Resultant array c:\", c)"
      ],
      "metadata": {
        "colab": {
          "base_uri": "https://localhost:8080/"
        },
        "id": "6qVytS-vjwiJ",
        "outputId": "1da919f5-01e5-4e72-9100-0b4d80df8f5a"
      },
      "execution_count": null,
      "outputs": [
        {
          "output_type": "stream",
          "name": "stdout",
          "text": [
            "Resultant array c: [5 7 9]\n"
          ]
        }
      ]
    },
    {
      "cell_type": "code",
      "source": [
        "#7\n",
        "import numpy as np\n",
        "arr = np.array([[1, 2, 3], [4, 5, 6]])\n",
        "print(np.shape(arr))\n"
      ],
      "metadata": {
        "colab": {
          "base_uri": "https://localhost:8080/"
        },
        "id": "xsrW7voOj9XG",
        "outputId": "3d966d19-cc4e-439b-f44c-b0a7867b2887"
      },
      "execution_count": null,
      "outputs": [
        {
          "output_type": "stream",
          "name": "stdout",
          "text": [
            "(2, 3)\n"
          ]
        }
      ]
    },
    {
      "cell_type": "code",
      "source": [
        "#8\n",
        "import pandas as pd\n",
        "data = {\n",
        "    'Name': ['Alice', 'Bob', 'Charlie', 'David', 'Emily'],\n",
        "    'Age': [25, 30, 22, 28, 24],\n",
        "    'City': ['New York', 'Los Angeles', 'Chicago', 'Houston', 'Miami']\n",
        "}\n",
        "df = pd.DataFrame(data)\n",
        "print(df)\n"
      ],
      "metadata": {
        "colab": {
          "base_uri": "https://localhost:8080/"
        },
        "id": "K2FJeULDkRxo",
        "outputId": "9eda985b-67af-41fe-e8ef-bc0f05f62780"
      },
      "execution_count": null,
      "outputs": [
        {
          "output_type": "stream",
          "name": "stdout",
          "text": [
            "      Name  Age         City\n",
            "0    Alice   25     New York\n",
            "1      Bob   30  Los Angeles\n",
            "2  Charlie   22      Chicago\n",
            "3    David   28      Houston\n",
            "4    Emily   24        Miami\n"
          ]
        }
      ]
    },
    {
      "cell_type": "code",
      "source": [
        "#9\n",
        "df1 = df[df['Age'] > 25]\n",
        "print(df1)\n"
      ],
      "metadata": {
        "colab": {
          "base_uri": "https://localhost:8080/"
        },
        "id": "q_U9jJeflj65",
        "outputId": "c2ddbd4c-2d24-4f20-eabb-7881842502d9"
      },
      "execution_count": null,
      "outputs": [
        {
          "output_type": "stream",
          "name": "stdout",
          "text": [
            "    Name  Age         City\n",
            "1    Bob   30  Los Angeles\n",
            "3  David   28      Houston\n"
          ]
        }
      ]
    },
    {
      "cell_type": "code",
      "source": [
        "#10\n",
        "import pandas as pd\n",
        "data = {\n",
        " 'Name': ['Alice', 'Bob', 'Carol'],\n",
        " 'Date': ['2022-03-15', '2021-09-10', '2023-01-25']\n",
        " }\n",
        "df = pd.DataFrame(data)\n",
        "df['Date'] = pd.to_datetime(df['Date'])\n",
        "print(df)\n",
        "print(df.dtypes['Date'])"
      ],
      "metadata": {
        "colab": {
          "base_uri": "https://localhost:8080/"
        },
        "id": "yY7y23-xyJEy",
        "outputId": "061f46a8-b180-4f5a-8353-6a89ef33e9fb"
      },
      "execution_count": null,
      "outputs": [
        {
          "output_type": "stream",
          "name": "stdout",
          "text": [
            "    Name       Date\n",
            "0  Alice 2022-03-15\n",
            "1    Bob 2021-09-10\n",
            "2  Carol 2023-01-25\n",
            "datetime64[ns]\n"
          ]
        }
      ]
    },
    {
      "cell_type": "code",
      "source": [
        "#11\n",
        "import pandas as pd\n",
        "data = {\n",
        "    'Date': ['2024-05-01', '2024-05-02', '2024-05-03','2024-05-04','2024-05-05'],\n",
        "    'Product': ['A', 'B', 'C','A','B'],\n",
        "    'Units Sold': [100, 150, 200,250,200],\n",
        "    'Price per Unit': [10.5, 12.0, 9.8, 10.0, 11.5]\n",
        "}\n",
        "\n",
        "df = pd.DataFrame(data)\n",
        "df.to_csv('sales_data.csv', index=False)\n",
        "df = pd.read_csv(\"sales_data.csv\")\n",
        "\n",
        "df[\"Total Sales\"] = df[\"Units Sold\"] * df[\"Price per Unit\"]\n",
        "print(df)\n",
        "product_sales = df.groupby(\"Product\")[\"Total Sales\"].sum()\n",
        "print(product_sales)\n",
        "\n",
        "import matplotlib.pyplot as plt\n",
        "plt.figure(figsize=(10, 6))\n",
        "plt.bar(product_sales.index, product_sales.values)\n",
        "plt.xlabel(\"Product\")\n",
        "plt.ylabel(\"Total Sales\")\n",
        "plt.title(\"Total Sales of each Product\")\n",
        "plt.show()"
      ],
      "metadata": {
        "colab": {
          "base_uri": "https://localhost:8080/",
          "height": 764
        },
        "id": "Z5-H0BH01FJL",
        "outputId": "0b0cca0d-0fe1-4d19-c9bc-da0f88d60c6b"
      },
      "execution_count": null,
      "outputs": [
        {
          "output_type": "stream",
          "name": "stdout",
          "text": [
            "         Date Product  Units Sold  Price per Unit  Total Sales\n",
            "0  2024-05-01       A         100            10.5       1050.0\n",
            "1  2024-05-02       B         150            12.0       1800.0\n",
            "2  2024-05-03       C         200             9.8       1960.0\n",
            "3  2024-05-04       A         250            10.0       2500.0\n",
            "4  2024-05-05       B         200            11.5       2300.0\n",
            "Product\n",
            "A    3550.0\n",
            "B    4100.0\n",
            "C    1960.0\n",
            "Name: Total Sales, dtype: float64\n"
          ]
        },
        {
          "output_type": "display_data",
          "data": {
            "text/plain": [
              "<Figure size 1000x600 with 1 Axes>"
            ],
            "image/png": "[encoded data removed]"
          },
          "metadata": {}
        }
      ]
    },
    {
      "cell_type": "code",
      "source": [
        "#12\n",
        "import numpy as np\n",
        "A = np.array([[1, 2], [3, 4]])\n",
        "B = np.array([[5, 6], [7, 8]])\n",
        "dp = np.dot(A, B)\n",
        "print(dp)\n",
        "detA = np.linalg.det(A)\n",
        "print(\"Determinant of matrix A:\", detA)\n",
        "\n",
        "import matplotlib.pyplot as plt\n",
        "B = np.array([[0.2, 0.5], [0.8, 0.3]])\n",
        "plt.imshow(B, cmap='hot', interpolation='nearest')\n",
        "plt.colorbar()\n",
        "plt.title(\"Heatmap of Matrix B\")\n",
        "plt.show()"
      ],
      "metadata": {
        "id": "IEn_NdWZrtYW",
        "colab": {
          "base_uri": "https://localhost:8080/",
          "height": 506
        },
        "outputId": "101287f0-a735-4967-e8fe-3391ab491d2d"
      },
      "execution_count": null,
      "outputs": [
        {
          "output_type": "stream",
          "name": "stdout",
          "text": [
            "[[19 22]\n",
            " [43 50]]\n",
            "Determinant of matrix A: -2.0000000000000004\n"
          ]
        },
        {
          "output_type": "display_data",
          "data": {
            "text/plain": [
              "<Figure size 640x480 with 2 Axes>"
            ],
            "image/png": "[encoded data removed]"
          },
          "metadata": {}
        }
      ]
    }
  ]
}
